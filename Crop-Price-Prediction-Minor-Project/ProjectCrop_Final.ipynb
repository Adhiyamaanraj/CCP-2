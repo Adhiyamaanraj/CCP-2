{
 "cells": [
  {
   "cell_type": "markdown",
   "metadata": {
    "id": "9ZD6IUPd3i22"
   },
   "source": [
    "Run Code"
   ]
  },
  {
   "cell_type": "code",
   "execution_count": null,
   "metadata": {
    "colab": {
     "base_uri": "https://localhost:8080/",
     "height": 532
    },
    "executionInfo": {
     "elapsed": 630355,
     "status": "error",
     "timestamp": 1729530174902,
     "user": {
      "displayName": "Suriyaa Vijay",
      "userId": "09749831986009995927"
     },
     "user_tz": -330
    },
    "id": "jLGDIVsQ3kdX",
    "outputId": "fc32404a-ac8e-4011-cbf7-98ef29e2820d"
   },
   "outputs": [
    {
     "name": "stdout",
     "output_type": "stream",
     "text": [
      "Fitting 5 folds for each of 81 candidates, totalling 405 fits\n",
      "Fitting 5 folds for each of 9 candidates, totalling 45 fits\n",
      "Random Forest Results: R²: 0.8619784538188393, MSE: 180.968425864049, MAE: 8.71433260421392, RMSE: 13.452450552373312\n",
      "AdaBoost Results: R²: 0.8061201249380563, MSE: 254.2076709575909, MAE: 12.35662150955358, RMSE: 15.943891336734294\n"
     ]
    },
    {
     "ename": "ValueError",
     "evalue": "y contains previously unseen labels: 'Location_A'",
     "output_type": "error",
     "traceback": [
      "\u001b[0;31m---------------------------------------------------------------------------\u001b[0m",
      "\u001b[0;31mKeyError\u001b[0m                                  Traceback (most recent call last)",
      "\u001b[0;32m/usr/local/lib/python3.10/dist-packages/sklearn/utils/_encode.py\u001b[0m in \u001b[0;36m_encode\u001b[0;34m(values, uniques, check_unknown)\u001b[0m\n\u001b[1;32m    224\u001b[0m         \u001b[0;32mtry\u001b[0m\u001b[0;34m:\u001b[0m\u001b[0;34m\u001b[0m\u001b[0;34m\u001b[0m\u001b[0m\n\u001b[0;32m--> 225\u001b[0;31m             \u001b[0;32mreturn\u001b[0m \u001b[0m_map_to_integer\u001b[0m\u001b[0;34m(\u001b[0m\u001b[0mvalues\u001b[0m\u001b[0;34m,\u001b[0m \u001b[0muniques\u001b[0m\u001b[0;34m)\u001b[0m\u001b[0;34m\u001b[0m\u001b[0;34m\u001b[0m\u001b[0m\n\u001b[0m\u001b[1;32m    226\u001b[0m         \u001b[0;32mexcept\u001b[0m \u001b[0mKeyError\u001b[0m \u001b[0;32mas\u001b[0m \u001b[0me\u001b[0m\u001b[0;34m:\u001b[0m\u001b[0;34m\u001b[0m\u001b[0;34m\u001b[0m\u001b[0m\n",
      "\u001b[0;32m/usr/local/lib/python3.10/dist-packages/sklearn/utils/_encode.py\u001b[0m in \u001b[0;36m_map_to_integer\u001b[0;34m(values, uniques)\u001b[0m\n\u001b[1;32m    164\u001b[0m     \u001b[0mtable\u001b[0m \u001b[0;34m=\u001b[0m \u001b[0m_nandict\u001b[0m\u001b[0;34m(\u001b[0m\u001b[0;34m{\u001b[0m\u001b[0mval\u001b[0m\u001b[0;34m:\u001b[0m \u001b[0mi\u001b[0m \u001b[0;32mfor\u001b[0m \u001b[0mi\u001b[0m\u001b[0;34m,\u001b[0m \u001b[0mval\u001b[0m \u001b[0;32min\u001b[0m \u001b[0menumerate\u001b[0m\u001b[0;34m(\u001b[0m\u001b[0muniques\u001b[0m\u001b[0;34m)\u001b[0m\u001b[0;34m}\u001b[0m\u001b[0;34m)\u001b[0m\u001b[0;34m\u001b[0m\u001b[0;34m\u001b[0m\u001b[0m\n\u001b[0;32m--> 165\u001b[0;31m     \u001b[0;32mreturn\u001b[0m \u001b[0mnp\u001b[0m\u001b[0;34m.\u001b[0m\u001b[0marray\u001b[0m\u001b[0;34m(\u001b[0m\u001b[0;34m[\u001b[0m\u001b[0mtable\u001b[0m\u001b[0;34m[\u001b[0m\u001b[0mv\u001b[0m\u001b[0;34m]\u001b[0m \u001b[0;32mfor\u001b[0m \u001b[0mv\u001b[0m \u001b[0;32min\u001b[0m \u001b[0mvalues\u001b[0m\u001b[0;34m]\u001b[0m\u001b[0;34m)\u001b[0m\u001b[0;34m\u001b[0m\u001b[0;34m\u001b[0m\u001b[0m\n\u001b[0m\u001b[1;32m    166\u001b[0m \u001b[0;34m\u001b[0m\u001b[0m\n",
      "\u001b[0;32m/usr/local/lib/python3.10/dist-packages/sklearn/utils/_encode.py\u001b[0m in \u001b[0;36m<listcomp>\u001b[0;34m(.0)\u001b[0m\n\u001b[1;32m    164\u001b[0m     \u001b[0mtable\u001b[0m \u001b[0;34m=\u001b[0m \u001b[0m_nandict\u001b[0m\u001b[0;34m(\u001b[0m\u001b[0;34m{\u001b[0m\u001b[0mval\u001b[0m\u001b[0;34m:\u001b[0m \u001b[0mi\u001b[0m \u001b[0;32mfor\u001b[0m \u001b[0mi\u001b[0m\u001b[0;34m,\u001b[0m \u001b[0mval\u001b[0m \u001b[0;32min\u001b[0m \u001b[0menumerate\u001b[0m\u001b[0;34m(\u001b[0m\u001b[0muniques\u001b[0m\u001b[0;34m)\u001b[0m\u001b[0;34m}\u001b[0m\u001b[0;34m)\u001b[0m\u001b[0;34m\u001b[0m\u001b[0;34m\u001b[0m\u001b[0m\n\u001b[0;32m--> 165\u001b[0;31m     \u001b[0;32mreturn\u001b[0m \u001b[0mnp\u001b[0m\u001b[0;34m.\u001b[0m\u001b[0marray\u001b[0m\u001b[0;34m(\u001b[0m\u001b[0;34m[\u001b[0m\u001b[0mtable\u001b[0m\u001b[0;34m[\u001b[0m\u001b[0mv\u001b[0m\u001b[0;34m]\u001b[0m \u001b[0;32mfor\u001b[0m \u001b[0mv\u001b[0m \u001b[0;32min\u001b[0m \u001b[0mvalues\u001b[0m\u001b[0;34m]\u001b[0m\u001b[0;34m)\u001b[0m\u001b[0;34m\u001b[0m\u001b[0;34m\u001b[0m\u001b[0m\n\u001b[0m\u001b[1;32m    166\u001b[0m \u001b[0;34m\u001b[0m\u001b[0m\n",
      "\u001b[0;32m/usr/local/lib/python3.10/dist-packages/sklearn/utils/_encode.py\u001b[0m in \u001b[0;36m__missing__\u001b[0;34m(self, key)\u001b[0m\n\u001b[1;32m    158\u001b[0m             \u001b[0;32mreturn\u001b[0m \u001b[0mself\u001b[0m\u001b[0;34m.\u001b[0m\u001b[0mnan_value\u001b[0m\u001b[0;34m\u001b[0m\u001b[0;34m\u001b[0m\u001b[0m\n\u001b[0;32m--> 159\u001b[0;31m         \u001b[0;32mraise\u001b[0m \u001b[0mKeyError\u001b[0m\u001b[0;34m(\u001b[0m\u001b[0mkey\u001b[0m\u001b[0;34m)\u001b[0m\u001b[0;34m\u001b[0m\u001b[0;34m\u001b[0m\u001b[0m\n\u001b[0m\u001b[1;32m    160\u001b[0m \u001b[0;34m\u001b[0m\u001b[0m\n",
      "\u001b[0;31mKeyError\u001b[0m: 'Location_A'",
      "\nDuring handling of the above exception, another exception occurred:\n",
      "\u001b[0;31mValueError\u001b[0m                                Traceback (most recent call last)",
      "\u001b[0;32m<ipython-input-4-4fe50df1ff5d>\u001b[0m in \u001b[0;36m<cell line: 96>\u001b[0;34m()\u001b[0m\n\u001b[1;32m     94\u001b[0m \u001b[0;34m\u001b[0m\u001b[0m\n\u001b[1;32m     95\u001b[0m \u001b[0;31m# Example usage:\u001b[0m\u001b[0;34m\u001b[0m\u001b[0;34m\u001b[0m\u001b[0m\n\u001b[0;32m---> 96\u001b[0;31m \u001b[0mpredicted_prices\u001b[0m \u001b[0;34m=\u001b[0m \u001b[0mpredict_future_prices\u001b[0m\u001b[0;34m(\u001b[0m\u001b[0mbest_rf\u001b[0m\u001b[0;34m,\u001b[0m \u001b[0mlocation\u001b[0m\u001b[0;34m=\u001b[0m\u001b[0;34m'Location_A'\u001b[0m\u001b[0;34m,\u001b[0m \u001b[0mcrop\u001b[0m\u001b[0;34m=\u001b[0m\u001b[0;34m'Crop_A'\u001b[0m\u001b[0;34m,\u001b[0m \u001b[0mrainfall\u001b[0m\u001b[0;34m=\u001b[0m\u001b[0;36m100\u001b[0m\u001b[0;34m,\u001b[0m \u001b[0mtemperature\u001b[0m\u001b[0;34m=\u001b[0m\u001b[0;36m25\u001b[0m\u001b[0;34m,\u001b[0m \u001b[0mhumidity\u001b[0m\u001b[0;34m=\u001b[0m\u001b[0;36m80\u001b[0m\u001b[0;34m)\u001b[0m\u001b[0;34m\u001b[0m\u001b[0;34m\u001b[0m\u001b[0m\n\u001b[0m\u001b[1;32m     97\u001b[0m \u001b[0mprint\u001b[0m\u001b[0;34m(\u001b[0m\u001b[0;34m\"Predicted Prices for the next 12 months:\"\u001b[0m\u001b[0;34m,\u001b[0m \u001b[0mpredicted_prices\u001b[0m\u001b[0;34m)\u001b[0m\u001b[0;34m\u001b[0m\u001b[0;34m\u001b[0m\u001b[0m\n",
      "\u001b[0;32m<ipython-input-4-4fe50df1ff5d>\u001b[0m in \u001b[0;36mpredict_future_prices\u001b[0;34m(model, location, crop, rainfall, temperature, humidity, start_date, months)\u001b[0m\n\u001b[1;32m     80\u001b[0m \u001b[0;32mdef\u001b[0m \u001b[0mpredict_future_prices\u001b[0m\u001b[0;34m(\u001b[0m\u001b[0mmodel\u001b[0m\u001b[0;34m,\u001b[0m \u001b[0mlocation\u001b[0m\u001b[0;34m,\u001b[0m \u001b[0mcrop\u001b[0m\u001b[0;34m,\u001b[0m \u001b[0mrainfall\u001b[0m\u001b[0;34m,\u001b[0m \u001b[0mtemperature\u001b[0m\u001b[0;34m,\u001b[0m \u001b[0mhumidity\u001b[0m\u001b[0;34m,\u001b[0m \u001b[0mstart_date\u001b[0m\u001b[0;34m=\u001b[0m\u001b[0;34m'2024-12'\u001b[0m\u001b[0;34m,\u001b[0m \u001b[0mmonths\u001b[0m\u001b[0;34m=\u001b[0m\u001b[0;36m12\u001b[0m\u001b[0;34m)\u001b[0m\u001b[0;34m:\u001b[0m\u001b[0;34m\u001b[0m\u001b[0;34m\u001b[0m\u001b[0m\n\u001b[1;32m     81\u001b[0m     \u001b[0;31m# Convert inputs into correct format\u001b[0m\u001b[0;34m\u001b[0m\u001b[0;34m\u001b[0m\u001b[0m\n\u001b[0;32m---> 82\u001b[0;31m     \u001b[0mlocation_encoded\u001b[0m \u001b[0;34m=\u001b[0m \u001b[0mle_location\u001b[0m\u001b[0;34m.\u001b[0m\u001b[0mtransform\u001b[0m\u001b[0;34m(\u001b[0m\u001b[0;34m[\u001b[0m\u001b[0mlocation\u001b[0m\u001b[0;34m]\u001b[0m\u001b[0;34m)\u001b[0m\u001b[0;34m[\u001b[0m\u001b[0;36m0\u001b[0m\u001b[0;34m]\u001b[0m\u001b[0;34m\u001b[0m\u001b[0;34m\u001b[0m\u001b[0m\n\u001b[0m\u001b[1;32m     83\u001b[0m     \u001b[0mcrop_encoded\u001b[0m \u001b[0;34m=\u001b[0m \u001b[0mle_crop\u001b[0m\u001b[0;34m.\u001b[0m\u001b[0mtransform\u001b[0m\u001b[0;34m(\u001b[0m\u001b[0;34m[\u001b[0m\u001b[0mcrop\u001b[0m\u001b[0;34m]\u001b[0m\u001b[0;34m)\u001b[0m\u001b[0;34m[\u001b[0m\u001b[0;36m0\u001b[0m\u001b[0;34m]\u001b[0m\u001b[0;34m\u001b[0m\u001b[0;34m\u001b[0m\u001b[0m\n\u001b[1;32m     84\u001b[0m \u001b[0;34m\u001b[0m\u001b[0m\n",
      "\u001b[0;32m/usr/local/lib/python3.10/dist-packages/sklearn/preprocessing/_label.py\u001b[0m in \u001b[0;36mtransform\u001b[0;34m(self, y)\u001b[0m\n\u001b[1;32m    135\u001b[0m             \u001b[0;32mreturn\u001b[0m \u001b[0mnp\u001b[0m\u001b[0;34m.\u001b[0m\u001b[0marray\u001b[0m\u001b[0;34m(\u001b[0m\u001b[0;34m[\u001b[0m\u001b[0;34m]\u001b[0m\u001b[0;34m)\u001b[0m\u001b[0;34m\u001b[0m\u001b[0;34m\u001b[0m\u001b[0m\n\u001b[1;32m    136\u001b[0m \u001b[0;34m\u001b[0m\u001b[0m\n\u001b[0;32m--> 137\u001b[0;31m         \u001b[0;32mreturn\u001b[0m \u001b[0m_encode\u001b[0m\u001b[0;34m(\u001b[0m\u001b[0my\u001b[0m\u001b[0;34m,\u001b[0m \u001b[0muniques\u001b[0m\u001b[0;34m=\u001b[0m\u001b[0mself\u001b[0m\u001b[0;34m.\u001b[0m\u001b[0mclasses_\u001b[0m\u001b[0;34m)\u001b[0m\u001b[0;34m\u001b[0m\u001b[0;34m\u001b[0m\u001b[0m\n\u001b[0m\u001b[1;32m    138\u001b[0m \u001b[0;34m\u001b[0m\u001b[0m\n\u001b[1;32m    139\u001b[0m     \u001b[0;32mdef\u001b[0m \u001b[0minverse_transform\u001b[0m\u001b[0;34m(\u001b[0m\u001b[0mself\u001b[0m\u001b[0;34m,\u001b[0m \u001b[0my\u001b[0m\u001b[0;34m)\u001b[0m\u001b[0;34m:\u001b[0m\u001b[0;34m\u001b[0m\u001b[0;34m\u001b[0m\u001b[0m\n",
      "\u001b[0;32m/usr/local/lib/python3.10/dist-packages/sklearn/utils/_encode.py\u001b[0m in \u001b[0;36m_encode\u001b[0;34m(values, uniques, check_unknown)\u001b[0m\n\u001b[1;32m    225\u001b[0m             \u001b[0;32mreturn\u001b[0m \u001b[0m_map_to_integer\u001b[0m\u001b[0;34m(\u001b[0m\u001b[0mvalues\u001b[0m\u001b[0;34m,\u001b[0m \u001b[0muniques\u001b[0m\u001b[0;34m)\u001b[0m\u001b[0;34m\u001b[0m\u001b[0;34m\u001b[0m\u001b[0m\n\u001b[1;32m    226\u001b[0m         \u001b[0;32mexcept\u001b[0m \u001b[0mKeyError\u001b[0m \u001b[0;32mas\u001b[0m \u001b[0me\u001b[0m\u001b[0;34m:\u001b[0m\u001b[0;34m\u001b[0m\u001b[0;34m\u001b[0m\u001b[0m\n\u001b[0;32m--> 227\u001b[0;31m             \u001b[0;32mraise\u001b[0m \u001b[0mValueError\u001b[0m\u001b[0;34m(\u001b[0m\u001b[0;34mf\"y contains previously unseen labels: {str(e)}\"\u001b[0m\u001b[0;34m)\u001b[0m\u001b[0;34m\u001b[0m\u001b[0;34m\u001b[0m\u001b[0m\n\u001b[0m\u001b[1;32m    228\u001b[0m     \u001b[0;32melse\u001b[0m\u001b[0;34m:\u001b[0m\u001b[0;34m\u001b[0m\u001b[0;34m\u001b[0m\u001b[0m\n\u001b[1;32m    229\u001b[0m         \u001b[0;32mif\u001b[0m \u001b[0mcheck_unknown\u001b[0m\u001b[0;34m:\u001b[0m\u001b[0;34m\u001b[0m\u001b[0;34m\u001b[0m\u001b[0m\n",
      "\u001b[0;31mValueError\u001b[0m: y contains previously unseen labels: 'Location_A'"
     ]
    }
   ],
   "source": [
    "import pandas as pd\n",
    "import numpy as np\n",
    "from sklearn.model_selection import train_test_split, GridSearchCV\n",
    "from sklearn.ensemble import RandomForestRegressor, AdaBoostRegressor\n",
    "from sklearn.metrics import r2_score, mean_squared_error, mean_absolute_error\n",
    "from sklearn.preprocessing import LabelEncoder\n",
    "import datetime\n",
    "\n",
    "data = pd.read_csv('/content/drive/MyDrive/Andhra_Crop_Project/crops_data.csv')\n",
    "\n",
    "\n",
    "data['Date'] = pd.to_datetime(data['Date'], format='%b-%y')\n",
    "\n",
    "le_location = LabelEncoder()\n",
    "le_crop = LabelEncoder()\n",
    "\n",
    "data['Location'] = le_location.fit_transform(data['Location'])\n",
    "data['Crop'] = le_crop.fit_transform(data['Crop'])\n",
    "\n",
    "X = data[['Location', 'Crop', 'Rainfall', 'Temperature', 'Humidity']]\n",
    "y = data['Crop_Price']\n",
    "\n",
    "X_train, X_test, y_train, y_test = train_test_split(\n",
    "    X, y, test_size=0.2, random_state=42, stratify=data[['Location', 'Crop']]\n",
    ")\n",
    "\n",
    "random_forest = RandomForestRegressor(random_state=42)\n",
    "adaboost = AdaBoostRegressor(random_state=42)\n",
    "\n",
    "param_grid_rf = {\n",
    "    'n_estimators': [100, 200, 300],\n",
    "    'max_depth': [10, 20, 30],\n",
    "    'min_samples_split': [2, 5, 10],\n",
    "    'min_samples_leaf': [1, 2, 4]\n",
    "}\n",
    "\n",
    "param_grid_ab = {\n",
    "    'n_estimators': [50, 100, 150],\n",
    "    'learning_rate': [0.01, 0.1, 1.0]\n",
    "}\n",
    "\n",
    "grid_search_rf = GridSearchCV(estimator=random_forest, param_grid=param_grid_rf, cv=5, n_jobs=-1, verbose=2, scoring='neg_mean_squared_error')\n",
    "grid_search_rf.fit(X_train, y_train)\n",
    "\n",
    "grid_search_ab = GridSearchCV(estimator=adaboost, param_grid=param_grid_ab, cv=5, n_jobs=-1, verbose=2, scoring='neg_mean_squared_error')\n",
    "grid_search_ab.fit(X_train, y_train)\n",
    "\n",
    "def evaluate_model(model, X_test, y_test):\n",
    "    y_pred = model.predict(X_test)\n",
    "    r2 = r2_score(y_test, y_pred)\n",
    "    mse = mean_squared_error(y_test, y_pred)\n",
    "    mae = mean_absolute_error(y_test, y_pred)\n",
    "    rmse = np.sqrt(mse)\n",
    "\n",
    "    return r2, mse, mae, rmse\n",
    "\n",
    "best_rf = grid_search_rf.best_estimator_\n",
    "best_ab = grid_search_ab.best_estimator_\n",
    "\n",
    "r2_rf, mse_rf, mae_rf, rmse_rf = evaluate_model(best_rf, X_test, y_test)\n",
    "print(f\"Random Forest Results: R²: {r2_rf}, MSE: {mse_rf}, MAE: {mae_rf}, RMSE: {rmse_rf}\")\n",
    "\n",
    "r2_ab, mse_ab, mae_ab, rmse_ab = evaluate_model(best_ab, X_test, y_test)\n",
    "print(f\"AdaBoost Results: R²: {r2_ab}, MSE: {mse_ab}, MAE: {mae_ab}, RMSE: {rmse_ab}\")\n",
    "\n",
    "def predict_future_prices(model, location, crop, rainfall, temperature, humidity, start_date='2024-12', months=12):\n",
    "\n",
    "    location_encoded = le_location.transform([location])[0]\n",
    "    crop_encoded = le_crop.transform([crop])[0]\n",
    "\n",
    "    future_dates = pd.date_range(start=start_date, periods=months, freq='M')\n",
    "\n",
    "    predictions = []\n",
    "    for date in future_dates:\n",
    "        X_future = np.array([[location_encoded, crop_encoded, rainfall, temperature, humidity]])\n",
    "        price_pred = model.predict(X_future)[0]\n",
    "        predictions.append((date.strftime('%b-%y'), price_pred))\n",
    "\n",
    "    return predictions\n",
    "\n",
    "\n",
    "predicted_prices = predict_future_prices(best_rf, location='Location_A', crop='Crop_A', rainfall=100, temperature=25, humidity=80)\n",
    "print(\"Predicted Prices for the next 12 months:\", predicted_prices)\n"
   ]
  },
  {
   "cell_type": "markdown",
   "metadata": {
    "id": "d-wsgMs0e4BV"
   },
   "source": [
    "Identifying Best Params\n"
   ]
  },
  {
   "cell_type": "code",
   "execution_count": null,
   "metadata": {
    "colab": {
     "base_uri": "https://localhost:8080/"
    },
    "executionInfo": {
     "elapsed": 1037,
     "status": "ok",
     "timestamp": 1729530292472,
     "user": {
      "displayName": "Suriyaa Vijay",
      "userId": "09749831986009995927"
     },
     "user_tz": -330
    },
    "id": "u9G5z22kCdZw",
    "outputId": "79ad429a-29cd-440b-dc60-64be912a5d97"
   },
   "outputs": [
    {
     "name": "stdout",
     "output_type": "stream",
     "text": [
      "Best parameters for Random Forest:\n",
      "{'max_depth': 10, 'min_samples_leaf': 4, 'min_samples_split': 10, 'n_estimators': 300}\n",
      "Best parameters for AdaBoost:\n",
      "{'learning_rate': 1.0, 'n_estimators': 50}\n"
     ]
    }
   ],
   "source": [
    "print(\"Best parameters for Random Forest:\")\n",
    "print(grid_search_rf.best_params_)\n",
    "\n",
    "print(\"Best parameters for AdaBoost:\")\n",
    "print(grid_search_ab.best_params_)\n"
   ]
  },
  {
   "cell_type": "markdown",
   "metadata": {
    "id": "XIyTL6n0EqmP"
   },
   "source": [
    "Final Code"
   ]
  },
  {
   "cell_type": "code",
   "execution_count": null,
   "metadata": {
    "colab": {
     "base_uri": "https://localhost:8080/"
    },
    "executionInfo": {
     "elapsed": 3454,
     "status": "ok",
     "timestamp": 1729530997865,
     "user": {
      "displayName": "Suriyaa Vijay",
      "userId": "09749831986009995927"
     },
     "user_tz": -330
    },
    "id": "G6HLTnwYEp9x",
    "outputId": "6237e9e6-88e6-4ecb-c016-73a0d39ce161"
   },
   "outputs": [
    {
     "name": "stdout",
     "output_type": "stream",
     "text": [
      "Random Forest Results: R²: 0.8619784538188393, MSE: 180.968425864049, MAE: 8.71433260421392, RMSE: 13.452450552373312\n",
      "AdaBoost Results: R²: 0.8061201249380563, MSE: 254.2076709575909, MAE: 12.35662150955358, RMSE: 15.943891336734294\n",
      "Models saved successfully.\n",
      "Predicted Prices for the next 12 months: [('Dec-24', 66.99830375936558), ('Jan-25', 66.99830375936558), ('Feb-25', 66.99830375936558), ('Mar-25', 66.99830375936558), ('Apr-25', 66.99830375936558), ('May-25', 66.99830375936558), ('Jun-25', 66.99830375936558), ('Jul-25', 66.99830375936558), ('Aug-25', 66.99830375936558), ('Sep-25', 66.99830375936558), ('Oct-25', 66.99830375936558), ('Nov-25', 66.99830375936558)]\n"
     ]
    },
    {
     "name": "stderr",
     "output_type": "stream",
     "text": [
      "<ipython-input-13-2fb3a4e308d6>:82: FutureWarning: 'M' is deprecated and will be removed in a future version, please use 'ME' instead.\n",
      "  future_dates = pd.date_range(start=start_date, periods=months, freq='M')\n",
      "/usr/local/lib/python3.10/dist-packages/sklearn/base.py:493: UserWarning: X does not have valid feature names, but RandomForestRegressor was fitted with feature names\n",
      "  warnings.warn(\n",
      "/usr/local/lib/python3.10/dist-packages/sklearn/base.py:493: UserWarning: X does not have valid feature names, but RandomForestRegressor was fitted with feature names\n",
      "  warnings.warn(\n",
      "/usr/local/lib/python3.10/dist-packages/sklearn/base.py:493: UserWarning: X does not have valid feature names, but RandomForestRegressor was fitted with feature names\n",
      "  warnings.warn(\n",
      "/usr/local/lib/python3.10/dist-packages/sklearn/base.py:493: UserWarning: X does not have valid feature names, but RandomForestRegressor was fitted with feature names\n",
      "  warnings.warn(\n",
      "/usr/local/lib/python3.10/dist-packages/sklearn/base.py:493: UserWarning: X does not have valid feature names, but RandomForestRegressor was fitted with feature names\n",
      "  warnings.warn(\n",
      "/usr/local/lib/python3.10/dist-packages/sklearn/base.py:493: UserWarning: X does not have valid feature names, but RandomForestRegressor was fitted with feature names\n",
      "  warnings.warn(\n",
      "/usr/local/lib/python3.10/dist-packages/sklearn/base.py:493: UserWarning: X does not have valid feature names, but RandomForestRegressor was fitted with feature names\n",
      "  warnings.warn(\n",
      "/usr/local/lib/python3.10/dist-packages/sklearn/base.py:493: UserWarning: X does not have valid feature names, but RandomForestRegressor was fitted with feature names\n",
      "  warnings.warn(\n",
      "/usr/local/lib/python3.10/dist-packages/sklearn/base.py:493: UserWarning: X does not have valid feature names, but RandomForestRegressor was fitted with feature names\n",
      "  warnings.warn(\n",
      "/usr/local/lib/python3.10/dist-packages/sklearn/base.py:493: UserWarning: X does not have valid feature names, but RandomForestRegressor was fitted with feature names\n",
      "  warnings.warn(\n",
      "/usr/local/lib/python3.10/dist-packages/sklearn/base.py:493: UserWarning: X does not have valid feature names, but RandomForestRegressor was fitted with feature names\n",
      "  warnings.warn(\n",
      "/usr/local/lib/python3.10/dist-packages/sklearn/base.py:493: UserWarning: X does not have valid feature names, but RandomForestRegressor was fitted with feature names\n",
      "  warnings.warn(\n"
     ]
    }
   ],
   "source": [
    "import pandas as pd\n",
    "import numpy as np\n",
    "from sklearn.model_selection import train_test_split\n",
    "from sklearn.ensemble import RandomForestRegressor, AdaBoostRegressor\n",
    "from sklearn.metrics import r2_score, mean_squared_error, mean_absolute_error\n",
    "from sklearn.preprocessing import LabelEncoder\n",
    "import datetime\n",
    "import joblib\n",
    "\n",
    "data = pd.read_csv('/content/drive/MyDrive/Andhra_Crop_Project/crops_data.csv')\n",
    "\n",
    "data['Date'] = pd.to_datetime(data['Date'], format='%b-%y')\n",
    "\n",
    "le_location = LabelEncoder()\n",
    "le_crop = LabelEncoder()\n",
    "\n",
    "data['Location'] = le_location.fit_transform(data['Location'])\n",
    "data['Crop'] = le_crop.fit_transform(data['Crop'])\n",
    "\n",
    "X = data[['Location', 'Crop', 'Rainfall', 'Temperature', 'Humidity']]\n",
    "y = data['Crop_Price']\n",
    "\n",
    "X_train, X_test, y_train, y_test = train_test_split(\n",
    "    X, y, test_size=0.2, random_state=42, stratify=data[['Location', 'Crop']]\n",
    ")\n",
    "\n",
    "random_forest = RandomForestRegressor(\n",
    "    n_estimators=300,\n",
    "    max_depth=10,\n",
    "    min_samples_split=10,\n",
    "    min_samples_leaf=4,\n",
    "    random_state=42\n",
    ")\n",
    "\n",
    "adaboost = AdaBoostRegressor(\n",
    "    n_estimators=50,\n",
    "    learning_rate=1.0,\n",
    "    random_state=42\n",
    ")\n",
    "\n",
    "random_forest.fit(X_train, y_train)\n",
    "adaboost.fit(X_train, y_train)\n",
    "\n",
    "def evaluate_model(model, X_test, y_test):\n",
    "    y_pred = model.predict(X_test)\n",
    "    r2 = r2_score(y_test, y_pred)\n",
    "    mse = mean_squared_error(y_test, y_pred)\n",
    "    mae = mean_absolute_error(y_test, y_pred)\n",
    "    rmse = np.sqrt(mse)\n",
    "\n",
    "    return r2, mse, mae, rmse\n",
    "\n",
    "r2_rf, mse_rf, mae_rf, rmse_rf = evaluate_model(random_forest, X_test, y_test)\n",
    "print(f\"Random Forest Results: R²: {r2_rf}, MSE: {mse_rf}, MAE: {mae_rf}, RMSE: {rmse_rf}\")\n",
    "\n",
    "r2_ab, mse_ab, mae_ab, rmse_ab = evaluate_model(adaboost, X_test, y_test)\n",
    "print(f\"AdaBoost Results: R²: {r2_ab}, MSE: {mse_ab}, MAE: {mae_ab}, RMSE: {rmse_ab}\")\n",
    "\n"
   ]
  },
  {
   "cell_type": "markdown",
   "metadata": {
    "id": "CN0VDGSee8pt"
   },
   "source": [
    "Optimization and Fine Tuning\n"
   ]
  },
  {
   "cell_type": "code",
   "execution_count": null,
   "metadata": {
    "colab": {
     "base_uri": "https://localhost:8080/"
    },
    "executionInfo": {
     "elapsed": 8117,
     "status": "ok",
     "timestamp": 1729619713819,
     "user": {
      "displayName": "Suriyaa Vijay",
      "userId": "09749831986009995927"
     },
     "user_tz": -330
    },
    "id": "K6hgppJYH49d",
    "outputId": "eb631c14-65c9-42e1-b301-a9e2cc6909e9"
   },
   "outputs": [
    {
     "name": "stdout",
     "output_type": "stream",
     "text": [
      "Random Forest Results: R²: 0.97, MSE: 36.87, MAE: 4.25, RMSE: 6.07\n",
      "AdaBoost Results: R²: 0.91, MSE: 120.30, MAE: 8.64, RMSE: 10.97\n",
      "Models saved successfully.\n",
      "Predicted Prices for the next 12 months: [('Dec-24', '58.72'), ('Jan-25', '58.79'), ('Feb-25', '57.85'), ('Mar-25', '56.37'), ('Apr-25', '56.29'), ('May-25', '56.05'), ('Jun-25', '56.28'), ('Jul-25', '56.32'), ('Aug-25', '57.36'), ('Sep-25', '59.70'), ('Oct-25', '60.06'), ('Nov-25', '59.11')]\n"
     ]
    },
    {
     "name": "stderr",
     "output_type": "stream",
     "text": [
      "<ipython-input-1-fa292c89f774>:89: FutureWarning: 'M' is deprecated and will be removed in a future version, please use 'ME' instead.\n",
      "  future_dates = pd.date_range(start=start_date, periods=months, freq='M')\n"
     ]
    }
   ],
   "source": [
    "import pandas as pd\n",
    "import numpy as np\n",
    "from sklearn.model_selection import train_test_split\n",
    "from sklearn.ensemble import RandomForestRegressor, AdaBoostRegressor\n",
    "from sklearn.metrics import r2_score, mean_squared_error, mean_absolute_error\n",
    "from sklearn.preprocessing import LabelEncoder\n",
    "import joblib\n",
    "\n",
    "\n",
    "data = pd.read_csv('/content/drive/MyDrive/Andhra_Crop_Project/crops_data.csv')\n",
    "\n",
    "data['Date'] = pd.to_datetime(data['Date'], format='%b-%y')\n",
    "\n",
    "data['Month'] = data['Date'].dt.month\n",
    "data['Year'] = data['Date'].dt.year\n",
    "\n",
    "le_location = LabelEncoder()\n",
    "le_crop = LabelEncoder()\n",
    "\n",
    "data['Location'] = le_location.fit_transform(data['Location'])\n",
    "data['Crop'] = le_crop.fit_transform(data['Crop'])\n",
    "\n",
    "X = data[['Location', 'Crop', 'Rainfall', 'Temperature', 'Humidity', 'Month', 'Year']]\n",
    "y = data['Crop_Price']\n",
    "\n",
    "X_train, X_test, y_train, y_test = train_test_split(\n",
    "    X, y, test_size=0.2, random_state=42, stratify=data[['Location', 'Crop']]\n",
    ")\n",
    "\n",
    "random_forest = RandomForestRegressor(\n",
    "    n_estimators=300,\n",
    "    max_depth=10,\n",
    "    min_samples_split=10,\n",
    "    min_samples_leaf=4,\n",
    "    random_state=42\n",
    ")\n",
    "\n",
    "adaboost = AdaBoostRegressor(\n",
    "    n_estimators=50,\n",
    "    learning_rate=1.0,\n",
    "    random_state=42\n",
    ")\n",
    "\n",
    "random_forest.fit(X_train, y_train)\n",
    "adaboost.fit(X_train, y_train)\n",
    "\n",
    "def evaluate_model(model, X_test, y_test):\n",
    "    y_pred = model.predict(X_test)\n",
    "    r2 = r2_score(y_test, y_pred)\n",
    "    mse = mean_squared_error(y_test, y_pred)\n",
    "    mae = mean_absolute_error(y_test, y_pred)\n",
    "    rmse = np.sqrt(mse)\n",
    "\n",
    "    return r2, mse, mae, rmse\n",
    "\n",
    "r2_rf, mse_rf, mae_rf, rmse_rf = evaluate_model(random_forest, X_test, y_test)\n",
    "print(f\"Random Forest Results: R²: {r2_rf:.2f}, MSE: {mse_rf:.2f}, MAE: {mae_rf:.2f}, RMSE: {rmse_rf:.2f}\")\n",
    "\n",
    "r2_ab, mse_ab, mae_ab, rmse_ab = evaluate_model(adaboost, X_test, y_test)\n",
    "print(f\"AdaBoost Results: R²: {r2_ab:.2f}, MSE: {mse_ab:.2f}, MAE: {mae_ab:.2f}, RMSE: {rmse_ab:.2f}\")\n",
    "\n",
    "joblib.dump(random_forest, 'random_forest_model.joblib')\n",
    "joblib.dump(adaboost, 'adaboost_model.joblib')\n",
    "\n",
    "print(\"Models saved successfully.\")\n",
    "\n",
    "loaded_random_forest = joblib.load('random_forest_model.joblib')\n",
    "loaded_adaboost = joblib.load('adaboost_model.joblib')\n",
    "\n",
    "def predict_future_prices(model, location, crop, rainfall, temperature, humidity, start_date='2024-12', months=12):\n",
    "    location_encoded = le_location.transform([location])[0]\n",
    "    crop_encoded = le_crop.transform([crop])[0]\n",
    "\n",
    "    future_dates = pd.date_range(start=start_date, periods=months, freq='M')\n",
    "\n",
    "    predictions = []\n",
    "    for i, date in enumerate(future_dates):\n",
    "        month = date.month\n",
    "        year = date.year\n",
    "\n",
    "        X_future = pd.DataFrame([[location_encoded, crop_encoded, rainfall, temperature, humidity, month, year]],\n",
    "                             columns=['Location', 'Crop', 'Rainfall', 'Temperature', 'Humidity', 'Month', 'Year'])\n",
    "        price_pred = model.predict(X_future)[0]\n",
    "\n",
    "        formatted_price = f\"{price_pred:.2f}\"\n",
    "\n",
    "        predictions.append((date.strftime('%b-%y'), formatted_price))\n",
    "\n",
    "    return predictions\n",
    "\n",
    "predicted_prices = predict_future_prices(loaded_random_forest, location='Nellore', crop='Maize', rainfall=980, temperature=25, humidity=71)\n",
    "print(\"Predicted Prices for the next 12 months:\", predicted_prices)\n"
   ]
  },
  {
   "cell_type": "markdown",
   "metadata": {
    "id": "1JU0eSNbfCHl"
   },
   "source": [
    "**Best Model Random Forest**"
   ]
  },
  {
   "cell_type": "code",
   "execution_count": null,
   "metadata": {
    "colab": {
     "base_uri": "https://localhost:8080/"
    },
    "executionInfo": {
     "elapsed": 3613,
     "status": "ok",
     "timestamp": 1729530313936,
     "user": {
      "displayName": "Suriyaa Vijay",
      "userId": "09749831986009995927"
     },
     "user_tz": -330
    },
    "id": "EmBFgK2iCfZD",
    "outputId": "c2fd21e0-7806-4860-fe03-fceb1806842f"
   },
   "outputs": [
    {
     "name": "stdout",
     "output_type": "stream",
     "text": [
      "Requirement already satisfied: joblib in /usr/local/lib/python3.10/dist-packages (1.4.2)\n"
     ]
    }
   ],
   "source": [
    "pip install joblib"
   ]
  },
  {
   "cell_type": "code",
   "execution_count": null,
   "metadata": {
    "colab": {
     "base_uri": "https://localhost:8080/"
    },
    "executionInfo": {
     "elapsed": 9,
     "status": "ok",
     "timestamp": 1729530325905,
     "user": {
      "displayName": "Suriyaa Vijay",
      "userId": "09749831986009995927"
     },
     "user_tz": -330
    },
    "id": "3Wkk8B-wClmY",
    "outputId": "e0941637-ffd0-49ad-c1ad-746c9ec33349"
   },
   "outputs": [
    {
     "name": "stdout",
     "output_type": "stream",
     "text": [
      "Models saved successfully.\n"
     ]
    }
   ],
   "source": [
    "import joblib\n",
    "\n",
    "joblib.dump(best_rf, 'best_random_forest_model.pkl')\n",
    "\n",
    "joblib.dump(best_ab, 'best_adaboost_model.pkl')\n",
    "\n",
    "print(\"Models saved successfully.\")\n"
   ]
  }
 ],
 "metadata": {
  "accelerator": "GPU",
  "colab": {
   "authorship_tag": "ABX9TyOh592PdoQ31BdCwaK7GCfk",
   "gpuType": "T4",
   "mount_file_id": "1CrUgj40y95x_grddnVAmL7ODPxVWvYSk",
   "provenance": [
    {
     "file_id": "1CrUgj40y95x_grddnVAmL7ODPxVWvYSk",
     "timestamp": 1729621532691
    }
   ]
  },
  "kernelspec": {
   "display_name": "Python 3",
   "name": "python3"
  },
  "language_info": {
   "name": "python"
  }
 },
 "nbformat": 4,
 "nbformat_minor": 0
}
